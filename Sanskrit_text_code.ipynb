{
 "cells": [
  {
   "cell_type": "code",
   "execution_count": 1,
   "id": "3ec83f9b",
   "metadata": {},
   "outputs": [
    {
     "name": "stdout",
     "output_type": "stream",
     "text": [
      "Collecting python-docx\n",
      "  Downloading python_docx-1.1.2-py3-none-any.whl.metadata (2.0 kB)\n",
      "Collecting lxml>=3.1.0 (from python-docx)\n",
      "  Downloading lxml-5.3.2-cp311-cp311-win_amd64.whl.metadata (3.7 kB)\n",
      "Requirement already satisfied: typing-extensions>=4.9.0 in c:\\users\\vedant\\appdata\\local\\programs\\python\\python311\\lib\\site-packages (from python-docx) (4.12.2)\n",
      "Downloading python_docx-1.1.2-py3-none-any.whl (244 kB)\n",
      "Downloading lxml-5.3.2-cp311-cp311-win_amd64.whl (3.8 MB)\n",
      "   ---------------------------------------- 0.0/3.8 MB ? eta -:--:--\n",
      "   -------------------------------------- - 3.7/3.8 MB 18.2 MB/s eta 0:00:01\n",
      "   ---------------------------------------- 3.8/3.8 MB 16.2 MB/s eta 0:00:00\n",
      "Installing collected packages: lxml, python-docx\n",
      "Successfully installed lxml-5.3.2 python-docx-1.1.2\n",
      "Note: you may need to restart the kernel to use updated packages.\n"
     ]
    },
    {
     "name": "stderr",
     "output_type": "stream",
     "text": [
      "\n",
      "[notice] A new release of pip is available: 24.2 -> 25.0.1\n",
      "[notice] To update, run: python.exe -m pip install --upgrade pip\n"
     ]
    }
   ],
   "source": [
    "pip install python-docx\n"
   ]
  },
  {
   "cell_type": "code",
   "execution_count": 3,
   "id": "b4c50572",
   "metadata": {},
   "outputs": [
    {
     "name": "stdout",
     "output_type": "stream",
     "text": [
      "✅ Extracted 298 verses into C:\\Users\\vedant\\Desktop\\verses.json\n",
      "{\n",
      "  \"verse\": \"Aṣṭāvakragītā\\n # Header\\n This file is a plain text transformation of http://gretil.sub.uni-goettingen.de/gretil/corpustei/sa_aSTAvakragItA.xml\\n with a rudimentary header. For a more extensive header please refer to the source file.\\n ## Data entry: John Richards\\n ## Contribution: John Richards\\n ## Date of this version: 2020-07-31\\n ## Source:\\n - .\\n ## Publisher: Göttingen Register of Electronic Texts in Indian Languages (GRETIL), SUB Göttingen\\n ## Licence:\\n This e-text was provided to GRETIL in good faith that no copyright rights have been infringed. If anyone wishes to assert copyright over this file, please contact the GRETIL management at gretil(at)sub(dot)uni-goettingen(dot)de. The file will be immediately removed pending resolution of the claim.\\n Distributed under a Creative Commons Attribution-NonCommercial-ShareAlike 4.0 International License.\\n ## Structure of references:\\n A reference is assembled consisting of\\n - a pragmatic abbreviation of the title: Aṣṭāvakragītā = Avg,\\n - the number of the  in arabic numerals,\\n - the number of the verse in arabic numerals.\\n ## Notes:\\n This file has been created by mass conversion of GRETIL's Sanskrit corpus from astavgau.htm. Due to the heterogeneity of the sources the header markup might be suboptimal. For the sake of transparency the header of the legacy file is documented in the note element below:\\n Astavakragita\\n Input by John Richards\\n with corrections by Robert Drecogna\\n TEXT WITH PADA MARKERS\\n ## Revisions:\\n - 2020-07-31: TEI encoding by mass conversion of GRETIL's Sanskrit corpus\\n # Text\\n aṣṭāvakragītā\\n kathaṃ jñānam avāpto 'ti kathaṃ muktir bhaviṣyati\\n vairāgyaṃ ca kathaṃ prāptam etad brūhi mama prabho\",\n",
      "  \"index\": \"1.1\"\n",
      "}\n",
      "{\n",
      "  \"verse\": \"muktim icchasi cet tāta viṣayān viṣavat tyaja\\n kṣamārjavadayātoṣasatyaṃ pīyūṣavad bhaja\",\n",
      "  \"index\": \"1.2\"\n",
      "}\n",
      "{\n",
      "  \"verse\": \"na pṛthvī na jalaṃ nāgnir na vāyur dyaur na vā bhavān\\n eṣāṃ sākṣiṇam ātmānaṃ cidrūpaṃ viddhi muktaye\",\n",
      "  \"index\": \"1.3\"\n",
      "}\n"
     ]
    }
   ],
   "source": [
    "import re\n",
    "import json\n",
    "from docx import Document\n",
    "import os  # Import the 'os' module for path manipulation\n",
    "\n",
    "input_file = \"C:/Users/vedant/Desktop/Sanskrit_text_file.docx\"\n",
    "\n",
    "# Construct the absolute path to save on the Desktop\n",
    "desktop_path = os.path.join(os.path.expanduser(\"~\"), \"Desktop\", \"verses.json\")\n",
    "output_file = desktop_path\n",
    "\n",
    "def extract_verses_from_docx(filepath):\n",
    "    doc = Document(filepath)\n",
    "    lines = []\n",
    "    for para in doc.paragraphs:\n",
    "        line = para.text.strip()\n",
    "        if line:\n",
    "            lines.append(line)\n",
    "\n",
    "    verses = []\n",
    "    buffer = []\n",
    "    pattern = re.compile(r'//\\s*Avg_(\\d+\\.\\d+)')\n",
    "\n",
    "    for line in lines:\n",
    "        match = pattern.search(line)\n",
    "        if match:\n",
    "            index = match.group(1)\n",
    "            clean_line = pattern.sub('', line).strip()\n",
    "            buffer.append(clean_line)\n",
    "            verse = '\\n '.join(buffer).strip()\n",
    "            verses.append({\n",
    "                \"verse\": verse,\n",
    "                \"index\": index\n",
    "            })\n",
    "            buffer = []\n",
    "        else:\n",
    "            buffer.append(line)\n",
    "\n",
    "    return verses\n",
    "\n",
    "# Run extraction\n",
    "results = extract_verses_from_docx(input_file)\n",
    "\n",
    "with open(output_file, 'w', encoding='utf-8') as f:\n",
    "    json.dump(results, f, indent=2, ensure_ascii=False)\n",
    "\n",
    "print(f\"✅ Extracted {len(results)} verses into {output_file}\")\n",
    "\n",
    "import json\n",
    "\n",
    "with open(output_file, \"r\", encoding=\"utf-8\") as f:\n",
    "    data = json.load(f)\n",
    "\n",
    "# Display the first 3 entries as a sample\n",
    "for verse in data[:3]:\n",
    "    print(json.dumps(verse, indent=2, ensure_ascii=False))"
   ]
  },
  {
   "cell_type": "code",
   "execution_count": null,
   "id": "3dfc28e1",
   "metadata": {},
   "outputs": [],
   "source": []
  }
 ],
 "metadata": {
  "kernelspec": {
   "display_name": "Python 3",
   "language": "python",
   "name": "python3"
  },
  "language_info": {
   "codemirror_mode": {
    "name": "ipython",
    "version": 3
   },
   "file_extension": ".py",
   "mimetype": "text/x-python",
   "name": "python",
   "nbconvert_exporter": "python",
   "pygments_lexer": "ipython3",
   "version": "3.11.4"
  }
 },
 "nbformat": 4,
 "nbformat_minor": 5
}
